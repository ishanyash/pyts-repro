{
 "cells": [
  {
   "cell_type": "markdown",
   "metadata": {},
   "source": [
    "# BOSSVS: Bag of SFA Symbols in Vector Space\n",
    "\n",
    "* Website: https://www2.informatik.hu-berlin.de/~schaefpa/bossVS/\n",
    "\n",
    "* Paper: https://www2.informatik.hu-berlin.de/~schaefpa/bossvs.pdf"
   ]
  },
  {
   "cell_type": "code",
   "execution_count": 1,
   "metadata": {},
   "outputs": [
    {
     "name": "stdout",
     "output_type": "stream",
     "text": [
      "pyts: 0.8.0\n"
     ]
    }
   ],
   "source": [
    "import numpy as np\n",
    "import pyts\n",
    "from pyts.classification import BOSSVS\n",
    "from sklearn.ensemble import VotingClassifier\n",
    "\n",
    "\n",
    "print(\"pyts: {0}\".format(pyts.__version__))"
   ]
  },
  {
   "cell_type": "code",
   "execution_count": 2,
   "metadata": {},
   "outputs": [],
   "source": [
    "PATH = \"UCRArchive_2018/\" # Change this value if necessary"
   ]
  },
  {
   "cell_type": "markdown",
   "metadata": {},
   "source": [
    "# Adiac"
   ]
  },
  {
   "cell_type": "code",
   "execution_count": 3,
   "metadata": {},
   "outputs": [],
   "source": [
    "dataset_adiac = \"Adiac\"\n",
    "file_train_adiac = PATH + str(dataset_adiac) + \"/\" + str(dataset_adiac) + \"_TRAIN.tsv\"\n",
    "file_test_adiac = PATH + str(dataset_adiac) + \"/\" + str(dataset_adiac) + \"_TEST.tsv\"\n",
    "\n",
    "train_adiac = np.genfromtxt(fname=file_train_adiac, delimiter=\"\\t\", skip_header=0)\n",
    "test_adiac = np.genfromtxt(fname=file_test_adiac, delimiter=\"\\t\", skip_header=0)\n",
    "\n",
    "X_train_adiac, y_train_adiac = train_adiac[:, 1:], train_adiac[:, 0]\n",
    "X_test_adiac, y_test_adiac = test_adiac[:, 1:], test_adiac[:, 0]"
   ]
  },
  {
   "cell_type": "code",
   "execution_count": 4,
   "metadata": {},
   "outputs": [
    {
     "name": "stdout",
     "output_type": "stream",
     "text": [
      "Dataset: Adiac\n",
      "Accuracy on the test set: 0.703\n"
     ]
    }
   ],
   "source": [
    "clf_adiac = BOSSVS(word_size=12, n_bins=4, norm_mean=True,\n",
    "                   drop_sum=True, window_size=80)\n",
    "\n",
    "accuracy_adiac = clf_adiac.fit(\n",
    "    X_train_adiac, y_train_adiac).score(X_test_adiac, y_test_adiac)\n",
    "\n",
    "print(\"Dataset: {}\".format(dataset_adiac))\n",
    "print(\"Accuracy on the test set: {0:.3f}\".format(accuracy_adiac))"
   ]
  },
  {
   "cell_type": "markdown",
   "metadata": {},
   "source": [
    "# ECG200"
   ]
  },
  {
   "cell_type": "code",
   "execution_count": 5,
   "metadata": {},
   "outputs": [],
   "source": [
    "dataset_ecg200 = \"ECG200\"\n",
    "file_train_ecg200 = PATH + str(dataset_ecg200) + \"/\" + str(dataset_ecg200) + \"_TRAIN.tsv\"\n",
    "file_test_ecg200 = PATH + str(dataset_ecg200) + \"/\" + str(dataset_ecg200) + \"_TEST.tsv\"\n",
    "\n",
    "train_ecg200 = np.genfromtxt(fname=file_train_ecg200, delimiter=\"\\t\", skip_header=0)\n",
    "test_ecg200 = np.genfromtxt(fname=file_test_ecg200, delimiter=\"\\t\", skip_header=0)\n",
    "\n",
    "X_train_ecg200, y_train_ecg200 = train_ecg200[:, 1:], train_ecg200[:, 0]\n",
    "X_test_ecg200, y_test_ecg200 = test_ecg200[:, 1:], test_ecg200[:, 0]"
   ]
  },
  {
   "cell_type": "code",
   "execution_count": 6,
   "metadata": {},
   "outputs": [
    {
     "name": "stdout",
     "output_type": "stream",
     "text": [
      "Dataset: ECG200\n",
      "Accuracy on the test set: 0.860\n"
     ]
    }
   ],
   "source": [
    "clf_ecg200 = BOSSVS(word_size=5, n_bins=4, norm_mean=False,\n",
    "                    drop_sum=False, window_size=40)\n",
    "\n",
    "accuracy_ecg200 = clf_ecg200.fit(\n",
    "    X_train_ecg200, y_train_ecg200).score(X_test_ecg200, y_test_ecg200)\n",
    "\n",
    "print(\"Dataset: {}\".format(dataset_ecg200))\n",
    "print(\"Accuracy on the test set: {0:.3f}\".format(accuracy_ecg200))"
   ]
  },
  {
   "cell_type": "markdown",
   "metadata": {},
   "source": [
    "# GunPoint"
   ]
  },
  {
   "cell_type": "code",
   "execution_count": 7,
   "metadata": {},
   "outputs": [],
   "source": [
    "dataset_gunpoint = \"GunPoint\"\n",
    "file_train_gunpoint = PATH + str(dataset_gunpoint) + \"/\" + str(dataset_gunpoint) + \"_TRAIN.tsv\"\n",
    "file_test_gunpoint = PATH + str(dataset_gunpoint) + \"/\" + str(dataset_gunpoint) + \"_TEST.tsv\"\n",
    "\n",
    "train_gunpoint = np.genfromtxt(fname=file_train_gunpoint, delimiter=\"\\t\", skip_header=0)\n",
    "test_gunpoint = np.genfromtxt(fname=file_test_gunpoint, delimiter=\"\\t\", skip_header=0)\n",
    "\n",
    "X_train_gunpoint, y_train_gunpoint = train_gunpoint[:, 1:], train_gunpoint[:, 0]\n",
    "X_test_gunpoint, y_test_gunpoint = test_gunpoint[:, 1:], test_gunpoint[:, 0]"
   ]
  },
  {
   "cell_type": "code",
   "execution_count": 8,
   "metadata": {},
   "outputs": [
    {
     "name": "stdout",
     "output_type": "stream",
     "text": [
      "Dataset: GunPoint\n",
      "Accuracy on the test set: 1.000\n"
     ]
    }
   ],
   "source": [
    "clf_gunpoint = BOSSVS(word_size=14, n_bins=4, norm_mean=True,\n",
    "                      drop_sum=True, window_size=40)\n",
    "\n",
    "accuracy_gunpoint = clf_gunpoint.fit(\n",
    "    X_train_gunpoint, y_train_gunpoint).score(X_test_gunpoint, y_test_gunpoint)\n",
    "\n",
    "print(\"Dataset: {}\".format(dataset_gunpoint))\n",
    "print(\"Accuracy on the test set: {0:.3f}\".format(accuracy_gunpoint))"
   ]
  },
  {
   "cell_type": "markdown",
   "metadata": {},
   "source": [
    "# MiddlePhalanxTW"
   ]
  },
  {
   "cell_type": "code",
   "execution_count": 9,
   "metadata": {},
   "outputs": [],
   "source": [
    "dataset_mdtw = \"MiddlePhalanxTW\"\n",
    "file_train_mdtw = PATH + str(dataset_mdtw) + \"/\" + str(dataset_mdtw) + \"_TRAIN.tsv\"\n",
    "file_test_mdtw = PATH + str(dataset_mdtw) + \"/\" + str(dataset_mdtw) + \"_TEST.tsv\"\n",
    "\n",
    "train_mdtw = np.genfromtxt(fname=file_train_mdtw, delimiter=\"\\t\", skip_header=0)\n",
    "test_mdtw = np.genfromtxt(fname=file_test_mdtw, delimiter=\"\\t\", skip_header=0)\n",
    "\n",
    "X_train_mdtw, y_train_mdtw = train_mdtw[:, 1:-29], train_mdtw[:, 0]\n",
    "X_test_mdtw, y_test_mdtw = test_mdtw[:, 1:-29], test_mdtw[:, 0]"
   ]
  },
  {
   "cell_type": "code",
   "execution_count": 10,
   "metadata": {},
   "outputs": [
    {
     "name": "stdout",
     "output_type": "stream",
     "text": [
      "Dataset: MiddlePhalanxTW\n",
      "Accuracy on the test set: 0.545\n"
     ]
    }
   ],
   "source": [
    "clf_mdtw = BOSSVS(word_size=10, n_bins=4, norm_mean=False,\n",
    "                  drop_sum=False, window_size=25)\n",
    "\n",
    "accuracy_mdtw = clf_mdtw.fit(X_train_mdtw, y_train_mdtw).score(X_test_mdtw, y_test_mdtw)\n",
    "\n",
    "print(\"Dataset: {}\".format(dataset_mdtw))\n",
    "print(\"Accuracy on the test set: {0:.3f}\".format(accuracy_mdtw))"
   ]
  },
  {
   "cell_type": "markdown",
   "metadata": {},
   "source": [
    "# Plane"
   ]
  },
  {
   "cell_type": "code",
   "execution_count": 11,
   "metadata": {},
   "outputs": [],
   "source": [
    "dataset_plane = \"Plane\"\n",
    "file_train_plane = PATH + str(dataset_plane) + \"/\" + str(dataset_plane) + \"_TRAIN.tsv\"\n",
    "file_test_plane = PATH + str(dataset_plane) + \"/\" + str(dataset_plane) + \"_TEST.tsv\"\n",
    "\n",
    "train_plane = np.genfromtxt(fname=file_train_plane, delimiter=\"\\t\", skip_header=0)\n",
    "test_plane = np.genfromtxt(fname=file_test_plane, delimiter=\"\\t\", skip_header=0)\n",
    "\n",
    "X_train_plane, y_train_plane = train_plane[:, 1:], train_plane[:, 0]\n",
    "X_test_plane, y_test_plane = test_plane[:, 1:], test_plane[:, 0]"
   ]
  },
  {
   "cell_type": "code",
   "execution_count": 12,
   "metadata": {},
   "outputs": [
    {
     "name": "stdout",
     "output_type": "stream",
     "text": [
      "Dataset: Plane\n",
      "Accuracy on the test set: 1.000\n"
     ]
    }
   ],
   "source": [
    "clf_plane = BOSSVS(word_size=6, n_bins=4, norm_mean=False,\n",
    "                   drop_sum=False, window_size=10)\n",
    "\n",
    "accuracy_plane = clf_plane.fit(X_train_plane, y_train_plane).score(X_test_plane, y_test_plane)\n",
    "\n",
    "print(\"Dataset: {}\".format(dataset_plane))\n",
    "print(\"Accuracy on the test set: {0:.3f}\".format(accuracy_plane))"
   ]
  },
  {
   "cell_type": "markdown",
   "metadata": {},
   "source": [
    "# SyntheticControl"
   ]
  },
  {
   "cell_type": "code",
   "execution_count": 13,
   "metadata": {},
   "outputs": [],
   "source": [
    "dataset_synthetic = \"SyntheticControl\"\n",
    "file_train_synthetic = PATH + str(dataset_synthetic) + \"/\" + str(dataset_synthetic) + \"_TRAIN.tsv\"\n",
    "file_test_synthetic = PATH + str(dataset_synthetic) + \"/\" + str(dataset_synthetic) + \"_TEST.tsv\"\n",
    "\n",
    "train_synthetic = np.genfromtxt(fname=file_train_synthetic, delimiter=\"\\t\", skip_header=0)\n",
    "test_synthetic = np.genfromtxt(fname=file_test_synthetic, delimiter=\"\\t\", skip_header=0)\n",
    "\n",
    "X_train_synthetic, y_train_synthetic = train_synthetic[:, 1:], train_synthetic[:, 0]\n",
    "X_test_synthetic, y_test_synthetic = test_synthetic[:, 1:], test_synthetic[:, 0]"
   ]
  },
  {
   "cell_type": "code",
   "execution_count": 14,
   "metadata": {
    "scrolled": false
   },
   "outputs": [
    {
     "name": "stdout",
     "output_type": "stream",
     "text": [
      "Dataset: SyntheticControl\n",
      "Accuracy on the test set: 0.980\n"
     ]
    }
   ],
   "source": [
    "window_size_synthetic = np.arange(18, 37, dtype='int64')\n",
    "norm_mean_synthetic = np.full(window_size_synthetic.size, False)\n",
    "word_size_synthetic = np.full(window_size_synthetic.size, 6, dtype='int64')\n",
    "\n",
    "bossvs_synthetic = [BOSSVS(word_size=word_size, n_bins=4, norm_mean=norm_mean,\n",
    "                           drop_sum=norm_mean, window_size=window_size)\n",
    "                    for (word_size, norm_mean, window_size) in zip(\n",
    "                         word_size_synthetic, norm_mean_synthetic, window_size_synthetic)]\n",
    "\n",
    "voting_synthetic = VotingClassifier([(\"bossvs_\" + str(i), bossvs)\n",
    "                                     for i, bossvs in enumerate(bossvs_synthetic)])\n",
    "\n",
    "accuracy_synthetic = voting_synthetic.fit(\n",
    "    X_train_synthetic, y_train_synthetic).score(X_test_synthetic, y_test_synthetic)\n",
    "\n",
    "print(\"Dataset: {}\".format(dataset_synthetic))\n",
    "print(\"Accuracy on the test set: {0:.3f}\".format(accuracy_synthetic))"
   ]
  }
 ],
 "metadata": {
  "kernelspec": {
   "display_name": "Python 3",
   "language": "python",
   "name": "python3"
  },
  "language_info": {
   "codemirror_mode": {
    "name": "ipython",
    "version": 3
   },
   "file_extension": ".py",
   "mimetype": "text/x-python",
   "name": "python",
   "nbconvert_exporter": "python",
   "pygments_lexer": "ipython3",
   "version": "3.7.1"
  }
 },
 "nbformat": 4,
 "nbformat_minor": 2
}
